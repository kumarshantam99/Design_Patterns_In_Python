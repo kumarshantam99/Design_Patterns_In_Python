{
 "cells": [
  {
   "cell_type": "code",
   "execution_count": 1,
   "metadata": {},
   "outputs": [
    {
     "name": "stdout",
     "output_type": "stream",
     "text": [
      "Proxy in action. Checking to see if the balance of student is clear or not...\n",
      "Your fee balance is greater than 500, first pay the fee\n",
      "Proxy in action. Checking to see if the balance of student is clear or not...\n",
      "Studying In College....\n"
     ]
    }
   ],
   "source": [
    "class College: \n",
    "    '''Resource-intensive object'''\n",
    "  \n",
    "    def studyingInCollege(self): \n",
    "        print(\"Studying In College....\") \n",
    "  \n",
    "  \n",
    "class CollegeProxy: \n",
    "    '''Relatively less resource-intensive proxy acting as middleman. \n",
    "     Instantiates a College object only if there is no fee due.'''\n",
    "  \n",
    "    def __init__(self): \n",
    "  \n",
    "        self.feeBalance = 1000\n",
    "        self.college = None\n",
    "  \n",
    "    def studyingInCollege(self): \n",
    "  \n",
    "        print(\"Proxy in action. Checking to see if the balance of student is clear or not...\") \n",
    "        if self.feeBalance <= 500: \n",
    "            # If the balance is less than 500, let him study. \n",
    "            self.college = College() \n",
    "            self.college.studyingInCollege() \n",
    "        else: \n",
    "  \n",
    "            # Otherwise, don't instantiate the college object. \n",
    "            print(\"Your fee balance is greater than 500, first pay the fee\") \n",
    "  \n",
    "\"\"\"main method\"\"\"\n",
    "  \n",
    "if __name__ == \"__main__\": \n",
    "      \n",
    "    # Instantiate the Proxy \n",
    "    collegeProxy = CollegeProxy() \n",
    "      \n",
    "    # Client attempting to study in the college at the default balance of 1000. \n",
    "    # Logically, since he / she cannot study with such balance, \n",
    "    # there is no need to make the college object. \n",
    "    collegeProxy.studyingInCollege() \n",
    "  \n",
    "    # Altering the balance of the student \n",
    "    collegeProxy.feeBalance = 100\n",
    "      \n",
    "    # Client attempting to study in college at the balance of 100. Should succeed. \n",
    "    collegeProxy.studyingInCollege() "
   ]
  },
  {
   "cell_type": "code",
   "execution_count": null,
   "metadata": {},
   "outputs": [],
   "source": []
  }
 ],
 "metadata": {
  "kernelspec": {
   "display_name": "base",
   "language": "python",
   "name": "python3"
  },
  "language_info": {
   "codemirror_mode": {
    "name": "ipython",
    "version": 3
   },
   "file_extension": ".py",
   "mimetype": "text/x-python",
   "name": "python",
   "nbconvert_exporter": "python",
   "pygments_lexer": "ipython3",
   "version": "3.11.5"
  }
 },
 "nbformat": 4,
 "nbformat_minor": 2
}
