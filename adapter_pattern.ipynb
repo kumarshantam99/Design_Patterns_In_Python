{
 "cells": [
  {
   "cell_type": "code",
   "execution_count": 1,
   "metadata": {},
   "outputs": [
    {
     "name": "stdout",
     "output_type": "stream",
     "text": [
      "Adapter: Legacy operation\n"
     ]
    }
   ],
   "source": [
    "#### Object Adapter \n",
    "\n",
    "class OldSystem:\n",
    "    def legacy_operation(self):\n",
    "        return \"Legacy operation\"\n",
    "\n",
    "class Adapter:\n",
    "    def __init__(self, old_system):\n",
    "        self.old_system = old_system\n",
    "\n",
    "    def new_operation(self):\n",
    "        return f\"Adapter: {self.old_system.legacy_operation()}\"\n",
    "\n",
    "# Client code\n",
    "def client_code(adapter):\n",
    "    result = adapter.new_operation()\n",
    "    print(result)\n",
    "\n",
    "if __name__ == \"__main__\":\n",
    "    old_system = OldSystem()\n",
    "    adapter = Adapter(old_system)\n",
    "    client_code(adapter)"
   ]
  },
  {
   "cell_type": "markdown",
   "metadata": {},
   "source": [
    "we create an Adapter class that wraps the OldSystem object and provides a new method, new_operation(), which conforms to our target interface. The client_code function demonstrates how the adapter allows the client to work seamlessly with the legacy OldSystem class."
   ]
  },
  {
   "cell_type": "code",
   "execution_count": 2,
   "metadata": {},
   "outputs": [
    {
     "name": "stdout",
     "output_type": "stream",
     "text": [
      "Adapter: Legacy operation\n"
     ]
    }
   ],
   "source": [
    "#### Class Adapter\n",
    "\n",
    "class OldSystem:\n",
    "    def legacy_operation(self):\n",
    "        return \"Legacy operation\"\n",
    "\n",
    "class Adapter(OldSystem):\n",
    "    def new_operation(self):\n",
    "        return f\"Adapter: {self.legacy_operation()}\"\n",
    "\n",
    "# Client code\n",
    "def client_code(adapter):\n",
    "    result = adapter.new_operation()\n",
    "    print(result)\n",
    "\n",
    "if __name__ == \"__main__\":\n",
    "    adapter = Adapter()\n",
    "    client_code(adapter)"
   ]
  },
  {
   "cell_type": "markdown",
   "metadata": {},
   "source": [
    "In this version, the Adapter class inherits from both the OldSystem class and the target interface. This allows it to override the legacy_operation() method to provide the adapted behavior. The client_code function remains the same.\n",
    "\n",
    "Both object and class adapters have their advantages and trade-offs, and the choice between them depends on the specific requirements and constraints of your project."
   ]
  },
  {
   "cell_type": "code",
   "execution_count": null,
   "metadata": {},
   "outputs": [],
   "source": []
  }
 ],
 "metadata": {
  "kernelspec": {
   "display_name": "base",
   "language": "python",
   "name": "python3"
  },
  "language_info": {
   "codemirror_mode": {
    "name": "ipython",
    "version": 3
   },
   "file_extension": ".py",
   "mimetype": "text/x-python",
   "name": "python",
   "nbconvert_exporter": "python",
   "pygments_lexer": "ipython3",
   "version": "3.11.5"
  }
 },
 "nbformat": 4,
 "nbformat_minor": 2
}
