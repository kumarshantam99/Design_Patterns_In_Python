{
 "cells": [
  {
   "cell_type": "code",
   "execution_count": 1,
   "metadata": {},
   "outputs": [
    {
     "name": "stdout",
     "output_type": "stream",
     "text": [
      "id = 2677402605264\n",
      "ComplexPattern[Audi]\n",
      "id = 2677402604944\n",
      "ComplexPattern[Ferrari]\n",
      "id = 2677402605264\n",
      "ComplexPattern[Audi]\n"
     ]
    }
   ],
   "source": [
    "class ComplexCars(object):\n",
    "\n",
    "\t\"\"\"Separate class for Complex Cars\"\"\"\n",
    "\n",
    "\tdef __init__(self):\n",
    "\n",
    "\t\tpass\n",
    "\n",
    "\tdef cars(self, car_name):\n",
    "\n",
    "\t\treturn \"ComplexPattern[% s]\" % (car_name)\n",
    "\n",
    "\n",
    "class CarFamilies(object):\n",
    "\n",
    "\t\"\"\"dictionary to store ids of the car\"\"\"\n",
    "\n",
    "\tcar_family = {}\n",
    "\n",
    "\tdef __new__(cls, name, car_family_id):\n",
    "\t\ttry:\n",
    "\t\t\tid = cls.car_family[car_family_id]\n",
    "\t\texcept KeyError:\n",
    "\t\t\tid = object.__new__(cls)\n",
    "\t\t\tcls.car_family[car_family_id] = id\n",
    "\t\treturn id\n",
    "\n",
    "\tdef set_car_info(self, car_info):\n",
    "\n",
    "\t\t\"\"\"set the car information\"\"\"\n",
    "\n",
    "\t\tcg = ComplexCars()\n",
    "\t\tself.car_info = cg.cars(car_info)\n",
    "\n",
    "\tdef get_car_info(self):\n",
    "\n",
    "\t\t\"\"\"return the car information\"\"\"\n",
    "\n",
    "\t\treturn (self.car_info)\n",
    "\n",
    "\n",
    "\n",
    "if __name__ == '__main__':\n",
    "\tcar_data = (('a', 1, 'Audi'), ('a', 2, 'Ferrari'), ('b', 1, 'Audi'))\n",
    "\tcar_family_objects = []\n",
    "\tfor i in car_data:\n",
    "\t\tobj = CarFamilies(i[0], i[1])\n",
    "\t\tobj.set_car_info(i[2])\n",
    "\t\tcar_family_objects.append(obj)\n",
    "\n",
    "\t\"\"\"similar id's says that they are same objects \"\"\"\n",
    "\n",
    "\tfor i in car_family_objects:\n",
    "\t\tprint(\"id = \" + str(id(i)))\n",
    "\t\tprint(i.get_car_info())\n"
   ]
  },
  {
   "cell_type": "code",
   "execution_count": null,
   "metadata": {},
   "outputs": [],
   "source": []
  }
 ],
 "metadata": {
  "kernelspec": {
   "display_name": "base",
   "language": "python",
   "name": "python3"
  },
  "language_info": {
   "codemirror_mode": {
    "name": "ipython",
    "version": 3
   },
   "file_extension": ".py",
   "mimetype": "text/x-python",
   "name": "python",
   "nbconvert_exporter": "python",
   "pygments_lexer": "ipython3",
   "version": "3.11.5"
  }
 },
 "nbformat": 4,
 "nbformat_minor": 2
}
