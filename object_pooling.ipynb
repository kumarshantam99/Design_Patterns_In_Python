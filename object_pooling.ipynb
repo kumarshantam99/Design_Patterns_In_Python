{
 "cells": [
  {
   "cell_type": "code",
   "execution_count": 2,
   "metadata": {},
   "outputs": [
    {
     "name": "stdout",
     "output_type": "stream",
     "text": [
      "Borrowed Book(1984, ID: 2063425290896)\n",
      "Library(Available: 2, Checked Out: 1)\n",
      "Returned Book(1984, ID: 2063425290896)\n",
      "Library(Available: 3, Checked Out: 0)\n",
      "Borrowed again Book(1984, ID: 2063425290896)\n",
      "Library(Available: 2, Checked Out: 1)\n"
     ]
    }
   ],
   "source": [
    "class Book:\n",
    "    \"\"\"A simple Book class that could represent a book in a library.\"\"\"\n",
    "    def __init__(self, title):\n",
    "        self.title = title\n",
    "        self.is_checked_out = False\n",
    "\n",
    "    def check_out(self):\n",
    "        \"\"\"Check out the book.\"\"\"\n",
    "        self.is_checked_out = True\n",
    "\n",
    "    def return_book(self):\n",
    "        \"\"\"Return the book.\"\"\"\n",
    "        self.is_checked_out = False\n",
    "\n",
    "    def __str__(self):\n",
    "        return f\"Book({self.title}, ID: {id(self)})\"\n",
    "\n",
    "class Library:\n",
    "    \"\"\"Library managing a pool of books.\"\"\"\n",
    "    def __init__(self, books):\n",
    "        self.available_books = books\n",
    "        self.checked_out_books = []\n",
    "\n",
    "    def borrow_book(self, title):\n",
    "        \"\"\"Borrow a book from the library.\"\"\"\n",
    "        for book in self.available_books:\n",
    "            if book.title == title and not book.is_checked_out:\n",
    "                book.check_out()\n",
    "                self.checked_out_books.append(book)\n",
    "                self.available_books.remove(book)\n",
    "                return book\n",
    "        raise Exception(\"Book not available.\")\n",
    "\n",
    "    def return_book(self, book):\n",
    "        \"\"\"Return a book to the library.\"\"\"\n",
    "        book.return_book()\n",
    "        self.checked_out_books.remove(book)\n",
    "        self.available_books.append(book)\n",
    "\n",
    "    def __str__(self):\n",
    "        return (f\"Library(Available: {len(self.available_books)}, \"\n",
    "                f\"Checked Out: {len(self.checked_out_books)})\")\n",
    "\n",
    "# Example usage\n",
    "if __name__ == \"__main__\":\n",
    "    # Initialization\n",
    "    # Create a few books\n",
    "    books = [Book(\"The Great Gatsby\"), Book(\"1984\"), Book(\"To Kill a Mockingbird\")]\n",
    "\n",
    "    # Create the library with the books\n",
    "    library = Library(books)\n",
    "\n",
    "    # Borrow a book (Acquiring an Object)\n",
    "    borrowed_book = library.borrow_book(\"1984\")\n",
    "    print(f\"Borrowed {borrowed_book}\") # Using the object\n",
    "    print(library)\n",
    "\n",
    "    # Return the book (Releasing the Object)\n",
    "    library.return_book(borrowed_book)\n",
    "    print(f\"Returned {borrowed_book}\")\n",
    "    print(library)\n",
    "\n",
    "    # Borrow the same book again to demonstrate to use the same object\n",
    "    # (Acquiring the Object again)\n",
    "    borrowed_book_again = library.borrow_book(\"1984\")\n",
    "    print(f\"Borrowed again {borrowed_book_again}\")\n",
    "    print(library)"
   ]
  },
  {
   "cell_type": "markdown",
   "metadata": {},
   "source": [
    "The applicability of the object pool pattern is broad, touching on areas where managing the lifecycle and reuse of objects efficiently can lead to performance improvements and resource savings. Here are several scenarios where this can be useful:\n",
    "\n",
    "Database Connection Pools: Managing database connections efficiently is crucial in web applications and services. Python’s various database libraries often provide their own connection pooling features, but you can also implement custom pooling logic to manage connections in scenarios where fine-tuned control is needed.\n",
    "Thread Pools with concurrent.futures: Python's concurrent.futures module includes a ThreadPoolExecutor, which is an implementation of the object pool pattern for managing a pool of threads. Using thread pools, you can execute multiple tasks concurrently, improving the performance of I/O-bound and high-latency operations.\n",
    "Pooling Expensive-to-Create Objects: In applications where certain objects are expensive to create (due to computational cost, initialization time, etc.), using an object pool to reuse these objects can lead to performance benefits. This is applicable in scientific computing, data analysis, or simulation software where objects like mathematical models, large arrays, or resource-intensive data structures are used."
   ]
  },
  {
   "cell_type": "markdown",
   "metadata": {},
   "source": []
  }
 ],
 "metadata": {
  "kernelspec": {
   "display_name": "base",
   "language": "python",
   "name": "python3"
  },
  "language_info": {
   "codemirror_mode": {
    "name": "ipython",
    "version": 3
   },
   "file_extension": ".py",
   "mimetype": "text/x-python",
   "name": "python",
   "nbconvert_exporter": "python",
   "pygments_lexer": "ipython3",
   "version": "3.11.5"
  }
 },
 "nbformat": 4,
 "nbformat_minor": 2
}
