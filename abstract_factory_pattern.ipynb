{
 "cells": [
  {
   "cell_type": "code",
   "execution_count": 1,
   "metadata": {},
   "outputs": [],
   "source": [
    "import abc\n",
    "\n",
    "class Toy(metaclass=abc.ABCMeta):  # indicates that this class is an abstract base class\n",
    "    @abc.abstractmethod\n",
    "    def show(self):\n",
    "        pass\n",
    "\n",
    "class Color(metaclass=abc.ABCMeta):\n",
    "    @abc.abstractmethod\n",
    "    def show_color(self):\n",
    "        pass"
   ]
  },
  {
   "cell_type": "code",
   "execution_count": 2,
   "metadata": {},
   "outputs": [],
   "source": [
    "# Instantiating concrete classes\n",
    "\n",
    "class Car(Toy):\n",
    "    def show(self):\n",
    "        print('Remote controlled car')\n",
    "\n",
    "class ActionFigure(Toy):\n",
    "    def show(self):\n",
    "        print('GI Joe Action figure')\n",
    "\n",
    "class ConstructionToy(Toy):\n",
    "    def show(self):\n",
    "        print('Legos')"
   ]
  },
  {
   "cell_type": "code",
   "execution_count": 4,
   "metadata": {},
   "outputs": [],
   "source": [
    "class Red(Color):\n",
    "    def show_color(self):\n",
    "        print('Red')\n",
    "\n",
    "class Green(Color):\n",
    "    def show_color(self):\n",
    "        print('Green')\n",
    "\n",
    "class Blue(Color):\n",
    "    def show_color(self):\n",
    "        print('Blue')"
   ]
  },
  {
   "cell_type": "code",
   "execution_count": 5,
   "metadata": {},
   "outputs": [
    {
     "name": "stdout",
     "output_type": "stream",
     "text": [
      "Red\n",
      "Remote controlled car\n"
     ]
    },
    {
     "data": {
      "text/plain": [
       "(None, None)"
      ]
     },
     "execution_count": 5,
     "metadata": {},
     "output_type": "execute_result"
    }
   ],
   "source": [
    "car=Car()\n",
    "red=Red()\n",
    "\n",
    "red.show_color(),car.show()"
   ]
  },
  {
   "cell_type": "code",
   "execution_count": 6,
   "metadata": {},
   "outputs": [],
   "source": [
    "## We see that we need two instantiations to get the Red colored car\n",
    "\n",
    "# Refactoring using Abstract factory method\n",
    "\n",
    "class AbstractFactory(metaclass=abc.ABCMeta):\n",
    "\n",
    "    @abc.abstractmethod\n",
    "    def get_color(self):\n",
    "        pass\n",
    "    @abc.abstractmethod\n",
    "    def get_toy(self):\n",
    "        pass"
   ]
  },
  {
   "cell_type": "code",
   "execution_count": 7,
   "metadata": {},
   "outputs": [],
   "source": [
    "class ColorfulToysFactory(AbstractFactory):\n",
    "\n",
    "    def get_toy(self,toy_type):\n",
    "        if toy_type==None:\n",
    "            return None\n",
    "        elif toy_type=='Car':\n",
    "            return Car()\n",
    "        elif toy_type=='Action Figure':\n",
    "            return ActionFigure()\n",
    "        elif toy_type=='Construction Toy':\n",
    "            return ConstructionToy()\n",
    "        \n",
    "        return None\n",
    "    \n",
    "    def get_color(self, color):\n",
    "        if color=='red':\n",
    "            return Red()\n",
    "        elif color=='green':\n",
    "            return Green()\n",
    "        elif color=='blue':\n",
    "            return Blue()\n",
    "        elif color==None:\n",
    "            return None\n",
    "        return None\n",
    "    \n",
    "    "
   ]
  },
  {
   "cell_type": "code",
   "execution_count": 8,
   "metadata": {},
   "outputs": [],
   "source": [
    "RED_CAR='red_car'\n",
    "BLUE_LEGO='blue_lego'"
   ]
  },
  {
   "cell_type": "code",
   "execution_count": 9,
   "metadata": {},
   "outputs": [],
   "source": [
    "class ColorfulToysProducer:\n",
    "\n",
    "    __colorful_toys_factory=ColorfulToysFactory()\n",
    "\n",
    "    @classmethod\n",
    "    def get_toy_and_color(cls,choice):\n",
    "        toy=None\n",
    "        color=None\n",
    "        if choice==RED_CAR:\n",
    "            toy=cls.__colorful_toys_factory.get_toy('Car')\n",
    "            color=cls.__colorful_toys_factory.get_color('red')\n",
    "        \n",
    "        elif choice==BLUE_LEGO:\n",
    "            toy=cls.__colorful_toys_factory.get_toy('Construction Toy')\n",
    "            color=cls.__colorful_toys_factory.get_color('blue')\n",
    "\n",
    "        return toy,color\n",
    "    \n",
    "    \n"
   ]
  },
  {
   "cell_type": "code",
   "execution_count": 10,
   "metadata": {},
   "outputs": [],
   "source": [
    "toy,color=ColorfulToysProducer.get_toy_and_color(BLUE_LEGO)"
   ]
  },
  {
   "cell_type": "code",
   "execution_count": 11,
   "metadata": {},
   "outputs": [
    {
     "data": {
      "text/plain": [
       "(<__main__.ConstructionToy at 0x19cf3774bd0>, <__main__.Blue at 0x19cf362a590>)"
      ]
     },
     "execution_count": 11,
     "metadata": {},
     "output_type": "execute_result"
    }
   ],
   "source": [
    "toy,color"
   ]
  },
  {
   "cell_type": "code",
   "execution_count": null,
   "metadata": {},
   "outputs": [],
   "source": []
  }
 ],
 "metadata": {
  "kernelspec": {
   "display_name": "base",
   "language": "python",
   "name": "python3"
  },
  "language_info": {
   "codemirror_mode": {
    "name": "ipython",
    "version": 3
   },
   "file_extension": ".py",
   "mimetype": "text/x-python",
   "name": "python",
   "nbconvert_exporter": "python",
   "pygments_lexer": "ipython3",
   "version": "3.11.5"
  }
 },
 "nbformat": 4,
 "nbformat_minor": 2
}
