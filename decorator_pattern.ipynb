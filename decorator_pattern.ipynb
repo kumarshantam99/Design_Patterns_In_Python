{
 "cells": [
  {
   "cell_type": "code",
   "execution_count": 1,
   "metadata": {},
   "outputs": [
    {
     "name": "stdout",
     "output_type": "stream",
     "text": [
      "before : GeeksforGeeks\n",
      "after : <i><u><b>GeeksforGeeks</b></u></i>\n"
     ]
    }
   ],
   "source": [
    "class WrittenText:\n",
    " \n",
    "    \"\"\"Represents a Written text \"\"\"\n",
    " \n",
    "    def __init__(self, text):\n",
    "        self._text = text\n",
    " \n",
    "    def render(self):\n",
    "        return self._text\n",
    " \n",
    "class UnderlineWrapper(WrittenText):\n",
    " \n",
    "    \"\"\"Wraps a tag in <u>\"\"\"\n",
    " \n",
    "    def __init__(self, wrapped):\n",
    "        self._wrapped = wrapped\n",
    " \n",
    "    def render(self):\n",
    "        return \"<u>{}</u>\".format(self._wrapped.render())\n",
    " \n",
    "class ItalicWrapper(WrittenText):\n",
    " \n",
    "    \"\"\"Wraps a tag in <i>\"\"\"\n",
    " \n",
    "    def __init__(self, wrapped):\n",
    "        self._wrapped = wrapped\n",
    " \n",
    "    def render(self):\n",
    "        return \"<i>{}</i>\".format(self._wrapped.render())\n",
    " \n",
    "class BoldWrapper(WrittenText):\n",
    " \n",
    "    \"\"\"Wraps a tag in <b>\"\"\"\n",
    " \n",
    "    def __init__(self, wrapped):\n",
    "        self._wrapped = wrapped\n",
    " \n",
    "    def render(self):\n",
    "        return \"<b>{}</b>\".format(self._wrapped.render())\n",
    " \n",
    "\"\"\" main method \"\"\"\n",
    " \n",
    "if __name__ == '__main__':\n",
    " \n",
    "    before_gfg = WrittenText(\"GeeksforGeeks\")\n",
    "    after_gfg = ItalicWrapper(UnderlineWrapper(BoldWrapper(before_gfg)))\n",
    " \n",
    "    print(\"before :\", before_gfg.render())\n",
    "    print(\"after :\", after_gfg.render())"
   ]
  },
  {
   "cell_type": "code",
   "execution_count": null,
   "metadata": {},
   "outputs": [],
   "source": []
  }
 ],
 "metadata": {
  "kernelspec": {
   "display_name": "base",
   "language": "python",
   "name": "python3"
  },
  "language_info": {
   "codemirror_mode": {
    "name": "ipython",
    "version": 3
   },
   "file_extension": ".py",
   "mimetype": "text/x-python",
   "name": "python",
   "nbconvert_exporter": "python",
   "pygments_lexer": "ipython3",
   "version": "3.11.5"
  }
 },
 "nbformat": 4,
 "nbformat_minor": 2
}
