{
 "cells": [
  {
   "cell_type": "code",
   "execution_count": 1,
   "metadata": {},
   "outputs": [],
   "source": [
    "# Product class\n",
    "class Computer:\n",
    "    def __init__(self, cpu, memory, storage, gpu):\n",
    "        self.cpu = cpu\n",
    "        self.memory = memory\n",
    "        self.storage = storage\n",
    "        self.gpu = gpu\n",
    "\n",
    "    def __str__(self):\n",
    "        return f\"CPU: {self.cpu}, Memory: {self.memory}, Storage: {self.storage}, GPU: {self.gpu}\"\n",
    "\n",
    "# Builder interface\n",
    "class ComputerBuilder:\n",
    "    def set_cpu(self, cpu):\n",
    "        pass\n",
    "\n",
    "    def set_memory(self, memory):\n",
    "        pass\n",
    "\n",
    "    def set_storage(self, storage):\n",
    "        pass\n",
    "\n",
    "    def set_gpu(self, gpu):\n",
    "        pass\n",
    "\n",
    "    def build(self):\n",
    "        pass\n",
    "\n",
    "# Concrete builder\n",
    "class GamingComputerBuilder(ComputerBuilder):\n",
    "    def set_cpu(self, cpu):\n",
    "        self.cpu = cpu\n",
    "\n",
    "    def set_memory(self, memory):\n",
    "        self.memory = memory\n",
    "\n",
    "    def set_storage(self, storage):\n",
    "        self.storage = storage\n",
    "\n",
    "    def set_gpu(self, gpu):\n",
    "        self.gpu = gpu\n",
    "\n",
    "    def build(self):\n",
    "        return Computer(self.cpu, self.memory, self.storage, self.gpu)\n",
    "\n",
    "# Director class\n",
    "class Director:\n",
    "    def __init__(self, builder):\n",
    "        self.builder = builder\n",
    "\n",
    "    def construct(self, cpu, memory, storage, gpu):\n",
    "        self.builder.set_cpu(cpu)\n",
    "        self.builder.set_memory(memory)\n",
    "        self.builder.set_storage(storage)\n",
    "        self.builder.set_gpu(gpu)\n",
    "        return self.builder.build()\n",
    "\n"
   ]
  },
  {
   "cell_type": "code",
   "execution_count": 2,
   "metadata": {},
   "outputs": [
    {
     "name": "stdout",
     "output_type": "stream",
     "text": [
      "Gaming PC specs:\n",
      "CPU: Intel i7, Memory: 16GB, Storage: 1TB SSD, GPU: Nvidia RTX 3080\n"
     ]
    }
   ],
   "source": [
    "# Client code\n",
    "if __name__ == \"__main__\":\n",
    "    gaming_computer_builder = GamingComputerBuilder()\n",
    "    director = Director(gaming_computer_builder)\n",
    "\n",
    "    gaming_pc = director.construct(\"Intel i7\", \"16GB\", \"1TB SSD\", \"Nvidia RTX 3080\")\n",
    "\n",
    "    print(\"Gaming PC specs:\")\n",
    "    print(gaming_pc)"
   ]
  },
  {
   "cell_type": "markdown",
   "metadata": {},
   "source": [
    "In this example:\n",
    "\n",
    "1. Computer represents the product we want to build.\n",
    "2. ComputerBuilder is an abstract interface for builders, defining the methods required to set components and build the computer.\n",
    "3. GamingComputerBuilder is a concrete builder that implements the ComputerBuilder interface. It provides specific methods to set CPU, memory, storage, and GPU components, and it builds the computer with the specified components.\n",
    "4. Director is responsible for orchestrating the building process. It takes a builder as a parameter and guides the builder to construct the product. In this case, it's responsible for setting the CPU, memory, storage, and GPU for the gaming computer.\n",
    "5. In the client code, we create a GamingComputerBuilder, pass it to the Director, and then use the director to construct a gaming computer with specific components."
   ]
  },
  {
   "cell_type": "code",
   "execution_count": null,
   "metadata": {},
   "outputs": [],
   "source": []
  }
 ],
 "metadata": {
  "kernelspec": {
   "display_name": "base",
   "language": "python",
   "name": "python3"
  },
  "language_info": {
   "codemirror_mode": {
    "name": "ipython",
    "version": 3
   },
   "file_extension": ".py",
   "mimetype": "text/x-python",
   "name": "python",
   "nbconvert_exporter": "python",
   "pygments_lexer": "ipython3",
   "version": "3.11.5"
  }
 },
 "nbformat": 4,
 "nbformat_minor": 2
}
