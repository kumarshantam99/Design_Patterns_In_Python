{
 "cells": [
  {
   "cell_type": "code",
   "execution_count": 1,
   "metadata": {},
   "outputs": [
    {
     "name": "stdout",
     "output_type": "stream",
     "text": [
      "Washing...\n",
      "Rinsing...\n",
      "Spinning...\n"
     ]
    }
   ],
   "source": [
    "\"\"\"Facade pattern with an example of WashingMachine\"\"\"\n",
    "\n",
    "class Washing: \n",
    "\t'''Subsystem # 1'''\n",
    "\n",
    "\tdef wash(self): \n",
    "\t\tprint(\"Washing...\") \n",
    "\n",
    "\n",
    "class Rinsing: \n",
    "\t'''Subsystem # 2'''\n",
    "\n",
    "\tdef rinse(self): \n",
    "\t\tprint(\"Rinsing...\") \n",
    "\n",
    "\n",
    "class Spinning: \n",
    "\t'''Subsystem # 3'''\n",
    "\n",
    "\tdef spin(self): \n",
    "\t\tprint(\"Spinning...\") \n",
    "\n",
    "\n",
    "class WashingMachine: \n",
    "\t'''Facade'''\n",
    "\n",
    "\tdef __init__(self): \n",
    "\t\tself.washing = Washing() \n",
    "\t\tself.rinsing = Rinsing() \n",
    "\t\tself.spinning = Spinning() \n",
    "\n",
    "\tdef startWashing(self): \n",
    "\t\tself.washing.wash() \n",
    "\t\tself.rinsing.rinse() \n",
    "\t\tself.spinning.spin() \n",
    "\n",
    "\"\"\" main method \"\"\"\n",
    "if __name__ == \"__main__\": \n",
    "\n",
    "\twashingMachine = WashingMachine() \n",
    "\twashingMachine.startWashing() \n"
   ]
  },
  {
   "cell_type": "code",
   "execution_count": null,
   "metadata": {},
   "outputs": [],
   "source": []
  }
 ],
 "metadata": {
  "kernelspec": {
   "display_name": "base",
   "language": "python",
   "name": "python3"
  },
  "language_info": {
   "codemirror_mode": {
    "name": "ipython",
    "version": 3
   },
   "file_extension": ".py",
   "mimetype": "text/x-python",
   "name": "python",
   "nbconvert_exporter": "python",
   "pygments_lexer": "ipython3",
   "version": "3.11.5"
  }
 },
 "nbformat": 4,
 "nbformat_minor": 2
}
