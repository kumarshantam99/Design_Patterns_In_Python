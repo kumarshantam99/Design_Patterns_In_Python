{
 "cells": [
  {
   "cell_type": "code",
   "execution_count": 1,
   "metadata": {},
   "outputs": [],
   "source": [
    "class Logger:\n",
    "    __instance=None\n",
    "\n",
    "    def __init__(self):\n",
    "        raise RuntimeError('Call get_instance() instead')\n",
    "    \n",
    "    @classmethod\n",
    "    def get_instance(cls):\n",
    "        if cls.__instance==None:\n",
    "            print('No Instance exists. Creating a new one')\n",
    "        \n",
    "            cls.__instance=cls.__new__(cls)\n",
    "\n",
    "        else:\n",
    "            print('A previously created instance exits, returning the same one.')\n",
    "\n",
    "        return cls.__instance\n",
    "    \n",
    "\n",
    "        \n"
   ]
  },
  {
   "cell_type": "code",
   "execution_count": 2,
   "metadata": {},
   "outputs": [
    {
     "ename": "RuntimeError",
     "evalue": "Call get_instance() instead",
     "output_type": "error",
     "traceback": [
      "\u001b[1;31m---------------------------------------------------------------------------\u001b[0m",
      "\u001b[1;31mRuntimeError\u001b[0m                              Traceback (most recent call last)",
      "Cell \u001b[1;32mIn[2], line 1\u001b[0m\n\u001b[1;32m----> 1\u001b[0m logger\u001b[38;5;241m=\u001b[39mLogger()\n",
      "Cell \u001b[1;32mIn[1], line 5\u001b[0m, in \u001b[0;36mLogger.__init__\u001b[1;34m(self)\u001b[0m\n\u001b[0;32m      4\u001b[0m \u001b[38;5;28;01mdef\u001b[39;00m \u001b[38;5;21m__init__\u001b[39m(\u001b[38;5;28mself\u001b[39m):\n\u001b[1;32m----> 5\u001b[0m     \u001b[38;5;28;01mraise\u001b[39;00m \u001b[38;5;167;01mRuntimeError\u001b[39;00m(\u001b[38;5;124m'\u001b[39m\u001b[38;5;124mCall get_instance() instead\u001b[39m\u001b[38;5;124m'\u001b[39m)\n",
      "\u001b[1;31mRuntimeError\u001b[0m: Call get_instance() instead"
     ]
    }
   ],
   "source": [
    "logger=Logger()"
   ]
  },
  {
   "cell_type": "code",
   "execution_count": 3,
   "metadata": {},
   "outputs": [
    {
     "name": "stdout",
     "output_type": "stream",
     "text": [
      "No Instance exists. Creating a new one\n"
     ]
    }
   ],
   "source": [
    "logger1=Logger.get_instance()"
   ]
  },
  {
   "cell_type": "code",
   "execution_count": 4,
   "metadata": {},
   "outputs": [
    {
     "data": {
      "text/plain": [
       "<__main__.Logger at 0x2c4240427d0>"
      ]
     },
     "execution_count": 4,
     "metadata": {},
     "output_type": "execute_result"
    }
   ],
   "source": [
    "logger1"
   ]
  },
  {
   "cell_type": "code",
   "execution_count": 5,
   "metadata": {},
   "outputs": [
    {
     "name": "stdout",
     "output_type": "stream",
     "text": [
      "A previously created instance exits, returning the same one.\n"
     ]
    },
    {
     "data": {
      "text/plain": [
       "<__main__.Logger at 0x2c4240427d0>"
      ]
     },
     "execution_count": 5,
     "metadata": {},
     "output_type": "execute_result"
    }
   ],
   "source": [
    "logger2=Logger.get_instance()\n",
    "logger2"
   ]
  },
  {
   "cell_type": "code",
   "execution_count": 6,
   "metadata": {},
   "outputs": [],
   "source": [
    "### More elegant way\n",
    "\n",
    "\n",
    "class Logger:\n",
    "\n",
    "    __instance=None\n",
    "\n",
    "    def __init__(self):\n",
    "        print('Object Initiated')\n",
    "\n",
    "    def __new__(cls):\n",
    "\n",
    "        if cls.__instance==None:\n",
    "            print('No Instance exists. Creating a new one')\n",
    "\n",
    "            cls.__instance=super(Logger,cls).__new__(cls)\n",
    "        else:\n",
    "            print('A previously created instance exits, returning the same one.')\n",
    "\n",
    "        return cls.__instance\n",
    "\n",
    "            \n",
    "        \n"
   ]
  },
  {
   "cell_type": "code",
   "execution_count": 7,
   "metadata": {},
   "outputs": [
    {
     "name": "stdout",
     "output_type": "stream",
     "text": [
      "No Instance exists. Creating a new one\n",
      "Object Initiated\n"
     ]
    }
   ],
   "source": [
    "logger1=Logger()"
   ]
  },
  {
   "cell_type": "code",
   "execution_count": 8,
   "metadata": {},
   "outputs": [
    {
     "data": {
      "text/plain": [
       "<__main__.Logger at 0x2c424d9ff50>"
      ]
     },
     "execution_count": 8,
     "metadata": {},
     "output_type": "execute_result"
    }
   ],
   "source": [
    "logger1"
   ]
  },
  {
   "cell_type": "code",
   "execution_count": 9,
   "metadata": {},
   "outputs": [
    {
     "name": "stdout",
     "output_type": "stream",
     "text": [
      "A previously created instance exits, returning the same one.\n",
      "Object Initiated\n"
     ]
    },
    {
     "data": {
      "text/plain": [
       "<__main__.Logger at 0x2c424d9ff50>"
      ]
     },
     "execution_count": 9,
     "metadata": {},
     "output_type": "execute_result"
    }
   ],
   "source": [
    "logger2=Logger()\n",
    "logger2"
   ]
  },
  {
   "cell_type": "code",
   "execution_count": 11,
   "metadata": {},
   "outputs": [
    {
     "data": {
      "text/plain": [
       "True"
      ]
     },
     "execution_count": 11,
     "metadata": {},
     "output_type": "execute_result"
    }
   ],
   "source": [
    "logger2 is logger1"
   ]
  },
  {
   "cell_type": "code",
   "execution_count": null,
   "metadata": {},
   "outputs": [],
   "source": [
    "class Logger:\n",
    "\n",
    "    __instance=None\n",
    "\n",
    "    # def __init__(self):\n",
    "    #     print('Object Initiated')\n",
    "\n",
    "    def __new__(cls):\n",
    "\n",
    "        if cls.__instance==None:\n",
    "            print('No Instance exists. Creating a new one')\n",
    "\n",
    "            cls.__instance=super(Logger,cls).__new__(cls)\n",
    "\n",
    "            ## Place initialization code here\n",
    "\n",
    "            \n",
    "        else:\n",
    "            print('A previously created instance exits, returning the same one.')\n",
    "\n",
    "        return cls.__instance\n"
   ]
  }
 ],
 "metadata": {
  "kernelspec": {
   "display_name": "base",
   "language": "python",
   "name": "python3"
  },
  "language_info": {
   "codemirror_mode": {
    "name": "ipython",
    "version": 3
   },
   "file_extension": ".py",
   "mimetype": "text/x-python",
   "name": "python",
   "nbconvert_exporter": "python",
   "pygments_lexer": "ipython3",
   "version": "3.11.5"
  }
 },
 "nbformat": 4,
 "nbformat_minor": 2
}
