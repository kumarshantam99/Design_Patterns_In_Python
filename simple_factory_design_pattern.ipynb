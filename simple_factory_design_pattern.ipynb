{
 "cells": [
  {
   "cell_type": "code",
   "execution_count": 1,
   "metadata": {},
   "outputs": [],
   "source": [
    "class Product:\n",
    "\n",
    "    def __init__(self, name ,price):\n",
    "\n",
    "        self.__name=name\n",
    "        self.__price=price\n",
    "\n",
    "    def get_price(self):\n",
    "        return self.__price\n",
    "    \n"
   ]
  },
  {
   "cell_type": "code",
   "execution_count": 2,
   "metadata": {},
   "outputs": [],
   "source": [
    "class MacBookAir(Product):\n",
    "\n",
    "    def __init__(self, memory,os):\n",
    "        Product.__init__(self,'MacBook Air',13000)\n",
    "        self.__memory=memory\n",
    "        self.__os=os\n",
    "\n",
    "class AppleIPad(Product):\n",
    "\n",
    "    def __init__(self, generation):\n",
    "        Product.__init__(self,'AppleIPad',12000)\n",
    "        self.__generation=generation\n",
    "        \n",
    "\n",
    "class AppleWatch(Product):\n",
    "\n",
    "    def __init__(self):\n",
    "        Product.__init__(self,'AppleWatch',3000)\n",
    "        \n",
    "\n"
   ]
  },
  {
   "cell_type": "code",
   "execution_count": 3,
   "metadata": {},
   "outputs": [],
   "source": [
    "class ProductFactory:\n",
    "\n",
    "    @staticmethod\n",
    "    def create(item_name,*args):\n",
    "\n",
    "        if (item_name=='MacBookAir'):\n",
    "            return MacBookAir(*args)\n",
    "        elif (item_name=='AppleIPad'):\n",
    "            return AppleIPad(*args)\n",
    "        elif (item_name=='AppleWatch'):\n",
    "            return AppleWatch(*args)"
   ]
  },
  {
   "cell_type": "code",
   "execution_count": 4,
   "metadata": {},
   "outputs": [
    {
     "data": {
      "text/plain": [
       "{'_Product__name': 'MacBook Air',\n",
       " '_Product__price': 13000,\n",
       " '_MacBookAir__memory': '16GB',\n",
       " '_MacBookAir__os': 'Sierra'}"
      ]
     },
     "execution_count": 4,
     "metadata": {},
     "output_type": "execute_result"
    }
   ],
   "source": [
    "air=ProductFactory.create('MacBookAir','16GB','Sierra')\n",
    "\n",
    "air.__dict__"
   ]
  },
  {
   "cell_type": "markdown",
   "metadata": {},
   "source": [
    "# REFACTORING EXAMPLE:"
   ]
  },
  {
   "cell_type": "code",
   "execution_count": 10,
   "metadata": {},
   "outputs": [],
   "source": [
    "import json\n",
    "\n",
    "import xml.etree.ElementTree as et\n",
    "\n",
    "\n",
    "class Movie:\n",
    "\n",
    "    def __init__(self,movie_id,name,director):\n",
    "\n",
    "        self.movie_id=movie_id\n",
    "        self.name=name\n",
    "        self.director=director\n",
    "        \n",
    "\n"
   ]
  },
  {
   "cell_type": "code",
   "execution_count": 11,
   "metadata": {},
   "outputs": [],
   "source": [
    "class MovieSerializer:\n",
    "\n",
    "    def serialize(self,movie,fmt):\n",
    "        if fmt=='JSON':\n",
    "            movie_info={\n",
    "                'id':movie.movie_id,\n",
    "                'name':movie.name,\n",
    "                'director':movie.director\n",
    "\n",
    "            }\n",
    "            return json.dumps(movie_info)\n",
    "    \n",
    "        elif fmt == 'XML':\n",
    "            movie_info=et.Element('movie',attrib={'id':movie.movie_id})\n",
    "            name=et.SubElement(movie_info,'name')\n",
    "            name.text=movie.name\n",
    "            director=et.SubElement(movie_info,'director')\n",
    "            director.text=movie.director\n",
    "\n",
    "            return et.tostring(movie_info,encoding='unicode')\n",
    "        \n",
    "        else:\n",
    "            raise ValueError(fmt)\n",
    "        \n",
    "        \n",
    "\n",
    "\n"
   ]
  },
  {
   "cell_type": "code",
   "execution_count": 12,
   "metadata": {},
   "outputs": [],
   "source": [
    "movie=Movie('578','Avengers Endgame','Russo Brothers')"
   ]
  },
  {
   "cell_type": "code",
   "execution_count": 13,
   "metadata": {},
   "outputs": [],
   "source": [
    "serializer=MovieSerializer()"
   ]
  },
  {
   "cell_type": "code",
   "execution_count": 14,
   "metadata": {},
   "outputs": [
    {
     "data": {
      "text/plain": [
       "'{\"id\": \"578\", \"name\": \"Avengers Endgame\", \"director\": \"Russo Brothers\"}'"
      ]
     },
     "execution_count": 14,
     "metadata": {},
     "output_type": "execute_result"
    }
   ],
   "source": [
    "serializer.serialize(movie,'JSON')"
   ]
  },
  {
   "cell_type": "code",
   "execution_count": 15,
   "metadata": {},
   "outputs": [
    {
     "data": {
      "text/plain": [
       "'<movie id=\"578\"><name>Avengers Endgame</name><director>Russo Brothers</director></movie>'"
      ]
     },
     "execution_count": 15,
     "metadata": {},
     "output_type": "execute_result"
    }
   ],
   "source": [
    "serializer.serialize(movie,'XML')"
   ]
  },
  {
   "cell_type": "code",
   "execution_count": 16,
   "metadata": {},
   "outputs": [],
   "source": [
    "#### After Refactoring\n",
    "\n",
    "class MovieSerializer:\n",
    "\n",
    "    def serialize(self,movie,fmt):\n",
    "        if fmt=='JSON':\n",
    "\n",
    "            return self._serialize_to_json(movie)\n",
    "        if fmt=='XML':\n",
    "\n",
    "            return self._serialize_to_xml(movie)\n",
    "        else:\n",
    "            raise ValueError(fmt)\n",
    "        \n",
    "    def _serialize_to_json(self,movie):\n",
    "            \n",
    "        movie_info={\n",
    "            'id':movie.movie_id,\n",
    "            'name':movie.name,\n",
    "            'director':movie.director\n",
    "\n",
    "        }\n",
    "        return json.dumps(movie_info)\n",
    "    \n",
    "    def _serialize_to_xml(self,movie):\n",
    "    \n",
    "        \n",
    "        movie_info=et.Element('movie',attrib={'id':movie.movie_id})\n",
    "        name=et.SubElement(movie_info,'name')\n",
    "        name.text=movie.name\n",
    "        director=et.SubElement(movie_info,'director')\n",
    "        director.text=movie.director\n",
    "\n",
    "        return et.tostring(movie_info,encoding='unicode')\n",
    "    \n",
    "\n"
   ]
  },
  {
   "cell_type": "code",
   "execution_count": 18,
   "metadata": {},
   "outputs": [],
   "source": [
    "### Further Refactoring\n",
    "\n",
    "import movie_serializer\n",
    "\n",
    "movie=Movie('578','Avengers Endgame','Russo Brothers')"
   ]
  },
  {
   "cell_type": "code",
   "execution_count": 19,
   "metadata": {},
   "outputs": [
    {
     "data": {
      "text/plain": [
       "'{\"id\": \"578\", \"name\": \"Avengers Endgame\", \"director\": \"Russo Brothers\"}'"
      ]
     },
     "execution_count": 19,
     "metadata": {},
     "output_type": "execute_result"
    }
   ],
   "source": [
    "movie_serializer.MovieSerializer.serialize(movie,'JSON')"
   ]
  },
  {
   "cell_type": "code",
   "execution_count": 20,
   "metadata": {},
   "outputs": [
    {
     "ename": "ValueError",
     "evalue": "YAML",
     "output_type": "error",
     "traceback": [
      "\u001b[1;31m---------------------------------------------------------------------------\u001b[0m",
      "\u001b[1;31mValueError\u001b[0m                                Traceback (most recent call last)",
      "Cell \u001b[1;32mIn[20], line 1\u001b[0m\n\u001b[1;32m----> 1\u001b[0m movie_serializer\u001b[38;5;241m.\u001b[39mMovieSerializer\u001b[38;5;241m.\u001b[39mserialize(movie,\u001b[38;5;124m'\u001b[39m\u001b[38;5;124mYAML\u001b[39m\u001b[38;5;124m'\u001b[39m)\n",
      "File \u001b[1;32mc:\\Users\\kshantam\\OneDrive - GalaxE. Solutions, Inc\\Desktop\\Deep Learning Tryouts\\Python Best Practices - GalaxE\\Design Patterns\\movie_serializer.py:15\u001b[0m, in \u001b[0;36mMovieSerializer.serialize\u001b[1;34m(cls, movie, fmt)\u001b[0m\n\u001b[0;32m     12\u001b[0m \u001b[38;5;129m@classmethod\u001b[39m\n\u001b[0;32m     13\u001b[0m \u001b[38;5;28;01mdef\u001b[39;00m \u001b[38;5;21mserialize\u001b[39m(\u001b[38;5;28mcls\u001b[39m, movie,fmt):\n\u001b[0;32m     14\u001b[0m     \u001b[38;5;28;01mif\u001b[39;00m fmt \u001b[38;5;129;01mnot\u001b[39;00m \u001b[38;5;129;01min\u001b[39;00m \u001b[38;5;28mcls\u001b[39m\u001b[38;5;241m.\u001b[39m__fmt_dictionary:\n\u001b[1;32m---> 15\u001b[0m         \u001b[38;5;28;01mraise\u001b[39;00m \u001b[38;5;167;01mValueError\u001b[39;00m(fmt)\n\u001b[0;32m     17\u001b[0m     serializer_fn\u001b[38;5;241m=\u001b[39m\u001b[38;5;28mcls\u001b[39m\u001b[38;5;241m.\u001b[39m__fmt_dictionary[fmt]\n\u001b[0;32m     19\u001b[0m     \u001b[38;5;28;01mreturn\u001b[39;00m serializer_fn(movie)\n",
      "\u001b[1;31mValueError\u001b[0m: YAML"
     ]
    }
   ],
   "source": [
    "movie_serializer.MovieSerializer.serialize(movie,'YAML')\n"
   ]
  },
  {
   "cell_type": "code",
   "execution_count": null,
   "metadata": {},
   "outputs": [],
   "source": []
  }
 ],
 "metadata": {
  "kernelspec": {
   "display_name": "base",
   "language": "python",
   "name": "python3"
  },
  "language_info": {
   "codemirror_mode": {
    "name": "ipython",
    "version": 3
   },
   "file_extension": ".py",
   "mimetype": "text/x-python",
   "name": "python",
   "nbconvert_exporter": "python",
   "pygments_lexer": "ipython3",
   "version": "3.11.5"
  }
 },
 "nbformat": 4,
 "nbformat_minor": 2
}
